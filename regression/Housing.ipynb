{
 "cells": [
  {
   "cell_type": "code",
   "execution_count": 1,
   "id": "heard-article",
   "metadata": {},
   "outputs": [],
   "source": [
    "import numpy as np\n",
    "import pandas as pd\n",
    "import matplotlib.pyplot as plt\n",
    "import seaborn as sns\n",
    "plt.style.use('seaborn-poster')"
   ]
  },
  {
   "cell_type": "markdown",
   "id": "apart-yorkshire",
   "metadata": {},
   "source": [
    "# Ames Housing Data\n",
    "\n",
    "In this notebook we will do some exploratory analysis of the Ames housing data set, and try to use some regression techniques to make predictions on the cost of houses. \n",
    "\n",
    "## Data exploring and cleaning"
   ]
  },
  {
   "cell_type": "code",
   "execution_count": 2,
   "id": "light-charlotte",
   "metadata": {},
   "outputs": [
    {
     "data": {
      "text/html": [
       "<div>\n",
       "<style scoped>\n",
       "    .dataframe tbody tr th:only-of-type {\n",
       "        vertical-align: middle;\n",
       "    }\n",
       "\n",
       "    .dataframe tbody tr th {\n",
       "        vertical-align: top;\n",
       "    }\n",
       "\n",
       "    .dataframe thead th {\n",
       "        text-align: right;\n",
       "    }\n",
       "</style>\n",
       "<table border=\"1\" class=\"dataframe\">\n",
       "  <thead>\n",
       "    <tr style=\"text-align: right;\">\n",
       "      <th></th>\n",
       "      <th>Id</th>\n",
       "      <th>MSSubClass</th>\n",
       "      <th>MSZoning</th>\n",
       "      <th>LotFrontage</th>\n",
       "      <th>LotArea</th>\n",
       "      <th>Street</th>\n",
       "      <th>Alley</th>\n",
       "      <th>LotShape</th>\n",
       "      <th>LandContour</th>\n",
       "      <th>Utilities</th>\n",
       "      <th>...</th>\n",
       "      <th>PoolArea</th>\n",
       "      <th>PoolQC</th>\n",
       "      <th>Fence</th>\n",
       "      <th>MiscFeature</th>\n",
       "      <th>MiscVal</th>\n",
       "      <th>MoSold</th>\n",
       "      <th>YrSold</th>\n",
       "      <th>SaleType</th>\n",
       "      <th>SaleCondition</th>\n",
       "      <th>SalePrice</th>\n",
       "    </tr>\n",
       "  </thead>\n",
       "  <tbody>\n",
       "    <tr>\n",
       "      <th>0</th>\n",
       "      <td>1</td>\n",
       "      <td>60</td>\n",
       "      <td>RL</td>\n",
       "      <td>65.0</td>\n",
       "      <td>8450</td>\n",
       "      <td>Pave</td>\n",
       "      <td>NaN</td>\n",
       "      <td>Reg</td>\n",
       "      <td>Lvl</td>\n",
       "      <td>AllPub</td>\n",
       "      <td>...</td>\n",
       "      <td>0</td>\n",
       "      <td>NaN</td>\n",
       "      <td>NaN</td>\n",
       "      <td>NaN</td>\n",
       "      <td>0</td>\n",
       "      <td>2</td>\n",
       "      <td>2008</td>\n",
       "      <td>WD</td>\n",
       "      <td>Normal</td>\n",
       "      <td>208500</td>\n",
       "    </tr>\n",
       "    <tr>\n",
       "      <th>1</th>\n",
       "      <td>2</td>\n",
       "      <td>20</td>\n",
       "      <td>RL</td>\n",
       "      <td>80.0</td>\n",
       "      <td>9600</td>\n",
       "      <td>Pave</td>\n",
       "      <td>NaN</td>\n",
       "      <td>Reg</td>\n",
       "      <td>Lvl</td>\n",
       "      <td>AllPub</td>\n",
       "      <td>...</td>\n",
       "      <td>0</td>\n",
       "      <td>NaN</td>\n",
       "      <td>NaN</td>\n",
       "      <td>NaN</td>\n",
       "      <td>0</td>\n",
       "      <td>5</td>\n",
       "      <td>2007</td>\n",
       "      <td>WD</td>\n",
       "      <td>Normal</td>\n",
       "      <td>181500</td>\n",
       "    </tr>\n",
       "    <tr>\n",
       "      <th>2</th>\n",
       "      <td>3</td>\n",
       "      <td>60</td>\n",
       "      <td>RL</td>\n",
       "      <td>68.0</td>\n",
       "      <td>11250</td>\n",
       "      <td>Pave</td>\n",
       "      <td>NaN</td>\n",
       "      <td>IR1</td>\n",
       "      <td>Lvl</td>\n",
       "      <td>AllPub</td>\n",
       "      <td>...</td>\n",
       "      <td>0</td>\n",
       "      <td>NaN</td>\n",
       "      <td>NaN</td>\n",
       "      <td>NaN</td>\n",
       "      <td>0</td>\n",
       "      <td>9</td>\n",
       "      <td>2008</td>\n",
       "      <td>WD</td>\n",
       "      <td>Normal</td>\n",
       "      <td>223500</td>\n",
       "    </tr>\n",
       "    <tr>\n",
       "      <th>3</th>\n",
       "      <td>4</td>\n",
       "      <td>70</td>\n",
       "      <td>RL</td>\n",
       "      <td>60.0</td>\n",
       "      <td>9550</td>\n",
       "      <td>Pave</td>\n",
       "      <td>NaN</td>\n",
       "      <td>IR1</td>\n",
       "      <td>Lvl</td>\n",
       "      <td>AllPub</td>\n",
       "      <td>...</td>\n",
       "      <td>0</td>\n",
       "      <td>NaN</td>\n",
       "      <td>NaN</td>\n",
       "      <td>NaN</td>\n",
       "      <td>0</td>\n",
       "      <td>2</td>\n",
       "      <td>2006</td>\n",
       "      <td>WD</td>\n",
       "      <td>Abnorml</td>\n",
       "      <td>140000</td>\n",
       "    </tr>\n",
       "    <tr>\n",
       "      <th>4</th>\n",
       "      <td>5</td>\n",
       "      <td>60</td>\n",
       "      <td>RL</td>\n",
       "      <td>84.0</td>\n",
       "      <td>14260</td>\n",
       "      <td>Pave</td>\n",
       "      <td>NaN</td>\n",
       "      <td>IR1</td>\n",
       "      <td>Lvl</td>\n",
       "      <td>AllPub</td>\n",
       "      <td>...</td>\n",
       "      <td>0</td>\n",
       "      <td>NaN</td>\n",
       "      <td>NaN</td>\n",
       "      <td>NaN</td>\n",
       "      <td>0</td>\n",
       "      <td>12</td>\n",
       "      <td>2008</td>\n",
       "      <td>WD</td>\n",
       "      <td>Normal</td>\n",
       "      <td>250000</td>\n",
       "    </tr>\n",
       "  </tbody>\n",
       "</table>\n",
       "<p>5 rows × 81 columns</p>\n",
       "</div>"
      ],
      "text/plain": [
       "   Id  MSSubClass MSZoning  LotFrontage  LotArea Street Alley LotShape  \\\n",
       "0   1          60       RL         65.0     8450   Pave   NaN      Reg   \n",
       "1   2          20       RL         80.0     9600   Pave   NaN      Reg   \n",
       "2   3          60       RL         68.0    11250   Pave   NaN      IR1   \n",
       "3   4          70       RL         60.0     9550   Pave   NaN      IR1   \n",
       "4   5          60       RL         84.0    14260   Pave   NaN      IR1   \n",
       "\n",
       "  LandContour Utilities  ... PoolArea PoolQC Fence MiscFeature MiscVal MoSold  \\\n",
       "0         Lvl    AllPub  ...        0    NaN   NaN         NaN       0      2   \n",
       "1         Lvl    AllPub  ...        0    NaN   NaN         NaN       0      5   \n",
       "2         Lvl    AllPub  ...        0    NaN   NaN         NaN       0      9   \n",
       "3         Lvl    AllPub  ...        0    NaN   NaN         NaN       0      2   \n",
       "4         Lvl    AllPub  ...        0    NaN   NaN         NaN       0     12   \n",
       "\n",
       "  YrSold  SaleType  SaleCondition  SalePrice  \n",
       "0   2008        WD         Normal     208500  \n",
       "1   2007        WD         Normal     181500  \n",
       "2   2008        WD         Normal     223500  \n",
       "3   2006        WD        Abnorml     140000  \n",
       "4   2008        WD         Normal     250000  \n",
       "\n",
       "[5 rows x 81 columns]"
      ]
     },
     "execution_count": 2,
     "metadata": {},
     "output_type": "execute_result"
    }
   ],
   "source": [
    "# read in our data\n",
    "t_test = pd.read_csv('../datasets/house-prices-advanced-regression-techniques/test.csv')\n",
    "t = pd.read_csv('../datasets/house-prices-advanced-regression-techniques/train.csv')\n",
    "t.head()"
   ]
  },
  {
   "cell_type": "markdown",
   "id": "involved-forwarding",
   "metadata": {},
   "source": [
    "Taking a peak at the data, we can see there is a combination of numerical and categorical features. Also, some features seem to be mostly NaNs. Let's split the data into numerical and categorical data in preperation for data cleaning that will come up."
   ]
  },
  {
   "cell_type": "code",
   "execution_count": 3,
   "id": "resistant-racing",
   "metadata": {},
   "outputs": [],
   "source": [
    "# find the categorical features\n",
    "# pick a threshold for what fraction is NaNs for the feature \n",
    "s = (t.dtypes == 'object')\n",
    "object_cols = list(s[s].index)\n",
    "size = len(t)\n",
    "thresh = .2\n",
    "colsToKeep = []\n",
    "\n",
    "# iterate through the categorical features, calculate what fraction of the feature is Nans\n",
    "# keep the column if it has fewer than 20 percent nans.\n",
    "for c in object_cols:\n",
    "    nnans = np.where(t[c].isnull())[0].size\n",
    "    fracNans = nnans/size\n",
    "    if fracNans < thresh:\n",
    "        colsToKeep.append(c)"
   ]
  },
  {
   "cell_type": "markdown",
   "id": "white-whale",
   "metadata": {},
   "source": [
    "Grab the categorical features and prepare a simple imputer that will replace NaNs with whatever is most frequent"
   ]
  },
  {
   "cell_type": "code",
   "execution_count": 5,
   "id": "experimental-network",
   "metadata": {},
   "outputs": [
    {
     "data": {
      "text/html": [
       "<div>\n",
       "<style scoped>\n",
       "    .dataframe tbody tr th:only-of-type {\n",
       "        vertical-align: middle;\n",
       "    }\n",
       "\n",
       "    .dataframe tbody tr th {\n",
       "        vertical-align: top;\n",
       "    }\n",
       "\n",
       "    .dataframe thead th {\n",
       "        text-align: right;\n",
       "    }\n",
       "</style>\n",
       "<table border=\"1\" class=\"dataframe\">\n",
       "  <thead>\n",
       "    <tr style=\"text-align: right;\">\n",
       "      <th></th>\n",
       "      <th>MSZoning</th>\n",
       "      <th>Street</th>\n",
       "      <th>LotShape</th>\n",
       "      <th>LandContour</th>\n",
       "      <th>Utilities</th>\n",
       "      <th>LotConfig</th>\n",
       "      <th>LandSlope</th>\n",
       "      <th>Neighborhood</th>\n",
       "      <th>Condition1</th>\n",
       "      <th>Condition2</th>\n",
       "      <th>...</th>\n",
       "      <th>Electrical</th>\n",
       "      <th>KitchenQual</th>\n",
       "      <th>Functional</th>\n",
       "      <th>GarageType</th>\n",
       "      <th>GarageFinish</th>\n",
       "      <th>GarageQual</th>\n",
       "      <th>GarageCond</th>\n",
       "      <th>PavedDrive</th>\n",
       "      <th>SaleType</th>\n",
       "      <th>SaleCondition</th>\n",
       "    </tr>\n",
       "  </thead>\n",
       "  <tbody>\n",
       "    <tr>\n",
       "      <th>count</th>\n",
       "      <td>1460</td>\n",
       "      <td>1460</td>\n",
       "      <td>1460</td>\n",
       "      <td>1460</td>\n",
       "      <td>1460</td>\n",
       "      <td>1460</td>\n",
       "      <td>1460</td>\n",
       "      <td>1460</td>\n",
       "      <td>1460</td>\n",
       "      <td>1460</td>\n",
       "      <td>...</td>\n",
       "      <td>1460</td>\n",
       "      <td>1460</td>\n",
       "      <td>1460</td>\n",
       "      <td>1460</td>\n",
       "      <td>1460</td>\n",
       "      <td>1460</td>\n",
       "      <td>1460</td>\n",
       "      <td>1460</td>\n",
       "      <td>1460</td>\n",
       "      <td>1460</td>\n",
       "    </tr>\n",
       "    <tr>\n",
       "      <th>unique</th>\n",
       "      <td>5</td>\n",
       "      <td>2</td>\n",
       "      <td>4</td>\n",
       "      <td>4</td>\n",
       "      <td>2</td>\n",
       "      <td>5</td>\n",
       "      <td>3</td>\n",
       "      <td>25</td>\n",
       "      <td>9</td>\n",
       "      <td>8</td>\n",
       "      <td>...</td>\n",
       "      <td>5</td>\n",
       "      <td>4</td>\n",
       "      <td>7</td>\n",
       "      <td>6</td>\n",
       "      <td>3</td>\n",
       "      <td>5</td>\n",
       "      <td>5</td>\n",
       "      <td>3</td>\n",
       "      <td>9</td>\n",
       "      <td>6</td>\n",
       "    </tr>\n",
       "    <tr>\n",
       "      <th>top</th>\n",
       "      <td>RL</td>\n",
       "      <td>Pave</td>\n",
       "      <td>Reg</td>\n",
       "      <td>Lvl</td>\n",
       "      <td>AllPub</td>\n",
       "      <td>Inside</td>\n",
       "      <td>Gtl</td>\n",
       "      <td>NAmes</td>\n",
       "      <td>Norm</td>\n",
       "      <td>Norm</td>\n",
       "      <td>...</td>\n",
       "      <td>SBrkr</td>\n",
       "      <td>TA</td>\n",
       "      <td>Typ</td>\n",
       "      <td>Attchd</td>\n",
       "      <td>Unf</td>\n",
       "      <td>TA</td>\n",
       "      <td>TA</td>\n",
       "      <td>Y</td>\n",
       "      <td>WD</td>\n",
       "      <td>Normal</td>\n",
       "    </tr>\n",
       "    <tr>\n",
       "      <th>freq</th>\n",
       "      <td>1151</td>\n",
       "      <td>1454</td>\n",
       "      <td>925</td>\n",
       "      <td>1311</td>\n",
       "      <td>1459</td>\n",
       "      <td>1052</td>\n",
       "      <td>1382</td>\n",
       "      <td>225</td>\n",
       "      <td>1260</td>\n",
       "      <td>1445</td>\n",
       "      <td>...</td>\n",
       "      <td>1335</td>\n",
       "      <td>735</td>\n",
       "      <td>1360</td>\n",
       "      <td>951</td>\n",
       "      <td>686</td>\n",
       "      <td>1392</td>\n",
       "      <td>1407</td>\n",
       "      <td>1340</td>\n",
       "      <td>1267</td>\n",
       "      <td>1198</td>\n",
       "    </tr>\n",
       "  </tbody>\n",
       "</table>\n",
       "<p>4 rows × 38 columns</p>\n",
       "</div>"
      ],
      "text/plain": [
       "       MSZoning Street LotShape LandContour Utilities LotConfig LandSlope  \\\n",
       "count      1460   1460     1460        1460      1460      1460      1460   \n",
       "unique        5      2        4           4         2         5         3   \n",
       "top          RL   Pave      Reg         Lvl    AllPub    Inside       Gtl   \n",
       "freq       1151   1454      925        1311      1459      1052      1382   \n",
       "\n",
       "       Neighborhood Condition1 Condition2  ... Electrical KitchenQual  \\\n",
       "count          1460       1460       1460  ...       1460        1460   \n",
       "unique           25          9          8  ...          5           4   \n",
       "top           NAmes       Norm       Norm  ...      SBrkr          TA   \n",
       "freq            225       1260       1445  ...       1335         735   \n",
       "\n",
       "       Functional GarageType GarageFinish GarageQual GarageCond PavedDrive  \\\n",
       "count        1460       1460         1460       1460       1460       1460   \n",
       "unique          7          6            3          5          5          3   \n",
       "top           Typ     Attchd          Unf         TA         TA          Y   \n",
       "freq         1360        951          686       1392       1407       1340   \n",
       "\n",
       "       SaleType SaleCondition  \n",
       "count      1460          1460  \n",
       "unique        9             6  \n",
       "top          WD        Normal  \n",
       "freq       1267          1198  \n",
       "\n",
       "[4 rows x 38 columns]"
      ]
     },
     "execution_count": 5,
     "metadata": {},
     "output_type": "execute_result"
    }
   ],
   "source": [
    "X_label = t.loc[:,colsToKeep]\n",
    "X_label_test = t_test.loc[:,colsToKeep]\n",
    "from sklearn.impute import SimpleImputer\n",
    "\n",
    "def imputeCategoricalData(X_label):\n",
    "    imputer = SimpleImputer(missing_values=np.nan, strategy='most_frequent')\n",
    "    X_label_imputed = imputer.fit_transform(X_label)\n",
    "    X_label_imputed = pd.DataFrame(X_label_imputed, columns=colsToKeep)\n",
    "    return X_label_imputed\n",
    "\n",
    "X_label_imputed = imputeCategoricalData(X_label)\n",
    "X_label_imputed_test = imputeCategoricalData(X_label_test)\n",
    "\n",
    "X_label_imputed.describe()"
   ]
  },
  {
   "cell_type": "markdown",
   "id": "forward-ownership",
   "metadata": {},
   "source": [
    "Prepare a label encoder for the data. We will need this later for our machine learning algorithms"
   ]
  },
  {
   "cell_type": "code",
   "execution_count": 6,
   "id": "conventional-remove",
   "metadata": {},
   "outputs": [],
   "source": [
    "from sklearn import preprocessing\n",
    "label_encoder = preprocessing.LabelEncoder()\n",
    "for col in X_label_imputed.columns:\n",
    "    X_label_imputed[col] = label_encoder.fit_transform(X_label_imputed[col])\n",
    "    X_label_imputed_test[col] = label_encoder.transform(X_label_imputed_test[col])"
   ]
  },
  {
   "cell_type": "markdown",
   "id": "supreme-methodology",
   "metadata": {},
   "source": [
    "Now we turn our attention to the numerical data. We will use a simple imputer here too to fill in any NaNs, but this time lets use the median value to fill in. "
   ]
  },
  {
   "cell_type": "code",
   "execution_count": 10,
   "id": "sacred-layer",
   "metadata": {},
   "outputs": [
    {
     "data": {
      "text/html": [
       "<div>\n",
       "<style scoped>\n",
       "    .dataframe tbody tr th:only-of-type {\n",
       "        vertical-align: middle;\n",
       "    }\n",
       "\n",
       "    .dataframe tbody tr th {\n",
       "        vertical-align: top;\n",
       "    }\n",
       "\n",
       "    .dataframe thead th {\n",
       "        text-align: right;\n",
       "    }\n",
       "</style>\n",
       "<table border=\"1\" class=\"dataframe\">\n",
       "  <thead>\n",
       "    <tr style=\"text-align: right;\">\n",
       "      <th></th>\n",
       "      <th>Id</th>\n",
       "      <th>MSSubClass</th>\n",
       "      <th>LotFrontage</th>\n",
       "      <th>LotArea</th>\n",
       "      <th>OverallQual</th>\n",
       "      <th>OverallCond</th>\n",
       "      <th>YearBuilt</th>\n",
       "      <th>YearRemodAdd</th>\n",
       "      <th>MasVnrArea</th>\n",
       "      <th>BsmtFinSF1</th>\n",
       "      <th>...</th>\n",
       "      <th>GarageArea</th>\n",
       "      <th>WoodDeckSF</th>\n",
       "      <th>OpenPorchSF</th>\n",
       "      <th>EnclosedPorch</th>\n",
       "      <th>3SsnPorch</th>\n",
       "      <th>ScreenPorch</th>\n",
       "      <th>PoolArea</th>\n",
       "      <th>MiscVal</th>\n",
       "      <th>MoSold</th>\n",
       "      <th>YrSold</th>\n",
       "    </tr>\n",
       "  </thead>\n",
       "  <tbody>\n",
       "    <tr>\n",
       "      <th>count</th>\n",
       "      <td>1460.000000</td>\n",
       "      <td>1460.000000</td>\n",
       "      <td>1460.000000</td>\n",
       "      <td>1460.000000</td>\n",
       "      <td>1460.000000</td>\n",
       "      <td>1460.000000</td>\n",
       "      <td>1460.000000</td>\n",
       "      <td>1460.000000</td>\n",
       "      <td>1460.000000</td>\n",
       "      <td>1460.000000</td>\n",
       "      <td>...</td>\n",
       "      <td>1460.000000</td>\n",
       "      <td>1460.000000</td>\n",
       "      <td>1460.000000</td>\n",
       "      <td>1460.000000</td>\n",
       "      <td>1460.000000</td>\n",
       "      <td>1460.000000</td>\n",
       "      <td>1460.000000</td>\n",
       "      <td>1460.000000</td>\n",
       "      <td>1460.000000</td>\n",
       "      <td>1460.000000</td>\n",
       "    </tr>\n",
       "    <tr>\n",
       "      <th>mean</th>\n",
       "      <td>730.500000</td>\n",
       "      <td>56.897260</td>\n",
       "      <td>69.863699</td>\n",
       "      <td>10516.828082</td>\n",
       "      <td>6.099315</td>\n",
       "      <td>5.575342</td>\n",
       "      <td>1971.267808</td>\n",
       "      <td>1984.865753</td>\n",
       "      <td>103.117123</td>\n",
       "      <td>443.639726</td>\n",
       "      <td>...</td>\n",
       "      <td>472.980137</td>\n",
       "      <td>94.244521</td>\n",
       "      <td>46.660274</td>\n",
       "      <td>21.954110</td>\n",
       "      <td>3.409589</td>\n",
       "      <td>15.060959</td>\n",
       "      <td>2.758904</td>\n",
       "      <td>43.489041</td>\n",
       "      <td>6.321918</td>\n",
       "      <td>2007.815753</td>\n",
       "    </tr>\n",
       "    <tr>\n",
       "      <th>std</th>\n",
       "      <td>421.610009</td>\n",
       "      <td>42.300571</td>\n",
       "      <td>22.027677</td>\n",
       "      <td>9981.264932</td>\n",
       "      <td>1.382997</td>\n",
       "      <td>1.112799</td>\n",
       "      <td>30.202904</td>\n",
       "      <td>20.645407</td>\n",
       "      <td>180.731373</td>\n",
       "      <td>456.098091</td>\n",
       "      <td>...</td>\n",
       "      <td>213.804841</td>\n",
       "      <td>125.338794</td>\n",
       "      <td>66.256028</td>\n",
       "      <td>61.119149</td>\n",
       "      <td>29.317331</td>\n",
       "      <td>55.757415</td>\n",
       "      <td>40.177307</td>\n",
       "      <td>496.123024</td>\n",
       "      <td>2.703626</td>\n",
       "      <td>1.328095</td>\n",
       "    </tr>\n",
       "    <tr>\n",
       "      <th>min</th>\n",
       "      <td>1.000000</td>\n",
       "      <td>20.000000</td>\n",
       "      <td>21.000000</td>\n",
       "      <td>1300.000000</td>\n",
       "      <td>1.000000</td>\n",
       "      <td>1.000000</td>\n",
       "      <td>1872.000000</td>\n",
       "      <td>1950.000000</td>\n",
       "      <td>0.000000</td>\n",
       "      <td>0.000000</td>\n",
       "      <td>...</td>\n",
       "      <td>0.000000</td>\n",
       "      <td>0.000000</td>\n",
       "      <td>0.000000</td>\n",
       "      <td>0.000000</td>\n",
       "      <td>0.000000</td>\n",
       "      <td>0.000000</td>\n",
       "      <td>0.000000</td>\n",
       "      <td>0.000000</td>\n",
       "      <td>1.000000</td>\n",
       "      <td>2006.000000</td>\n",
       "    </tr>\n",
       "    <tr>\n",
       "      <th>25%</th>\n",
       "      <td>365.750000</td>\n",
       "      <td>20.000000</td>\n",
       "      <td>60.000000</td>\n",
       "      <td>7553.500000</td>\n",
       "      <td>5.000000</td>\n",
       "      <td>5.000000</td>\n",
       "      <td>1954.000000</td>\n",
       "      <td>1967.000000</td>\n",
       "      <td>0.000000</td>\n",
       "      <td>0.000000</td>\n",
       "      <td>...</td>\n",
       "      <td>334.500000</td>\n",
       "      <td>0.000000</td>\n",
       "      <td>0.000000</td>\n",
       "      <td>0.000000</td>\n",
       "      <td>0.000000</td>\n",
       "      <td>0.000000</td>\n",
       "      <td>0.000000</td>\n",
       "      <td>0.000000</td>\n",
       "      <td>5.000000</td>\n",
       "      <td>2007.000000</td>\n",
       "    </tr>\n",
       "    <tr>\n",
       "      <th>50%</th>\n",
       "      <td>730.500000</td>\n",
       "      <td>50.000000</td>\n",
       "      <td>69.000000</td>\n",
       "      <td>9478.500000</td>\n",
       "      <td>6.000000</td>\n",
       "      <td>5.000000</td>\n",
       "      <td>1973.000000</td>\n",
       "      <td>1994.000000</td>\n",
       "      <td>0.000000</td>\n",
       "      <td>383.500000</td>\n",
       "      <td>...</td>\n",
       "      <td>480.000000</td>\n",
       "      <td>0.000000</td>\n",
       "      <td>25.000000</td>\n",
       "      <td>0.000000</td>\n",
       "      <td>0.000000</td>\n",
       "      <td>0.000000</td>\n",
       "      <td>0.000000</td>\n",
       "      <td>0.000000</td>\n",
       "      <td>6.000000</td>\n",
       "      <td>2008.000000</td>\n",
       "    </tr>\n",
       "    <tr>\n",
       "      <th>75%</th>\n",
       "      <td>1095.250000</td>\n",
       "      <td>70.000000</td>\n",
       "      <td>79.000000</td>\n",
       "      <td>11601.500000</td>\n",
       "      <td>7.000000</td>\n",
       "      <td>6.000000</td>\n",
       "      <td>2000.000000</td>\n",
       "      <td>2004.000000</td>\n",
       "      <td>164.250000</td>\n",
       "      <td>712.250000</td>\n",
       "      <td>...</td>\n",
       "      <td>576.000000</td>\n",
       "      <td>168.000000</td>\n",
       "      <td>68.000000</td>\n",
       "      <td>0.000000</td>\n",
       "      <td>0.000000</td>\n",
       "      <td>0.000000</td>\n",
       "      <td>0.000000</td>\n",
       "      <td>0.000000</td>\n",
       "      <td>8.000000</td>\n",
       "      <td>2009.000000</td>\n",
       "    </tr>\n",
       "    <tr>\n",
       "      <th>max</th>\n",
       "      <td>1460.000000</td>\n",
       "      <td>190.000000</td>\n",
       "      <td>313.000000</td>\n",
       "      <td>215245.000000</td>\n",
       "      <td>10.000000</td>\n",
       "      <td>9.000000</td>\n",
       "      <td>2010.000000</td>\n",
       "      <td>2010.000000</td>\n",
       "      <td>1600.000000</td>\n",
       "      <td>5644.000000</td>\n",
       "      <td>...</td>\n",
       "      <td>1418.000000</td>\n",
       "      <td>857.000000</td>\n",
       "      <td>547.000000</td>\n",
       "      <td>552.000000</td>\n",
       "      <td>508.000000</td>\n",
       "      <td>480.000000</td>\n",
       "      <td>738.000000</td>\n",
       "      <td>15500.000000</td>\n",
       "      <td>12.000000</td>\n",
       "      <td>2010.000000</td>\n",
       "    </tr>\n",
       "  </tbody>\n",
       "</table>\n",
       "<p>8 rows × 37 columns</p>\n",
       "</div>"
      ],
      "text/plain": [
       "                Id   MSSubClass  LotFrontage        LotArea  OverallQual  \\\n",
       "count  1460.000000  1460.000000  1460.000000    1460.000000  1460.000000   \n",
       "mean    730.500000    56.897260    69.863699   10516.828082     6.099315   \n",
       "std     421.610009    42.300571    22.027677    9981.264932     1.382997   \n",
       "min       1.000000    20.000000    21.000000    1300.000000     1.000000   \n",
       "25%     365.750000    20.000000    60.000000    7553.500000     5.000000   \n",
       "50%     730.500000    50.000000    69.000000    9478.500000     6.000000   \n",
       "75%    1095.250000    70.000000    79.000000   11601.500000     7.000000   \n",
       "max    1460.000000   190.000000   313.000000  215245.000000    10.000000   \n",
       "\n",
       "       OverallCond    YearBuilt  YearRemodAdd   MasVnrArea   BsmtFinSF1  ...  \\\n",
       "count  1460.000000  1460.000000   1460.000000  1460.000000  1460.000000  ...   \n",
       "mean      5.575342  1971.267808   1984.865753   103.117123   443.639726  ...   \n",
       "std       1.112799    30.202904     20.645407   180.731373   456.098091  ...   \n",
       "min       1.000000  1872.000000   1950.000000     0.000000     0.000000  ...   \n",
       "25%       5.000000  1954.000000   1967.000000     0.000000     0.000000  ...   \n",
       "50%       5.000000  1973.000000   1994.000000     0.000000   383.500000  ...   \n",
       "75%       6.000000  2000.000000   2004.000000   164.250000   712.250000  ...   \n",
       "max       9.000000  2010.000000   2010.000000  1600.000000  5644.000000  ...   \n",
       "\n",
       "        GarageArea   WoodDeckSF  OpenPorchSF  EnclosedPorch    3SsnPorch  \\\n",
       "count  1460.000000  1460.000000  1460.000000    1460.000000  1460.000000   \n",
       "mean    472.980137    94.244521    46.660274      21.954110     3.409589   \n",
       "std     213.804841   125.338794    66.256028      61.119149    29.317331   \n",
       "min       0.000000     0.000000     0.000000       0.000000     0.000000   \n",
       "25%     334.500000     0.000000     0.000000       0.000000     0.000000   \n",
       "50%     480.000000     0.000000    25.000000       0.000000     0.000000   \n",
       "75%     576.000000   168.000000    68.000000       0.000000     0.000000   \n",
       "max    1418.000000   857.000000   547.000000     552.000000   508.000000   \n",
       "\n",
       "       ScreenPorch     PoolArea       MiscVal       MoSold       YrSold  \n",
       "count  1460.000000  1460.000000   1460.000000  1460.000000  1460.000000  \n",
       "mean     15.060959     2.758904     43.489041     6.321918  2007.815753  \n",
       "std      55.757415    40.177307    496.123024     2.703626     1.328095  \n",
       "min       0.000000     0.000000      0.000000     1.000000  2006.000000  \n",
       "25%       0.000000     0.000000      0.000000     5.000000  2007.000000  \n",
       "50%       0.000000     0.000000      0.000000     6.000000  2008.000000  \n",
       "75%       0.000000     0.000000      0.000000     8.000000  2009.000000  \n",
       "max     480.000000   738.000000  15500.000000    12.000000  2010.000000  \n",
       "\n",
       "[8 rows x 37 columns]"
      ]
     },
     "execution_count": 10,
     "metadata": {},
     "output_type": "execute_result"
    }
   ],
   "source": [
    "X_num = t.select_dtypes(exclude=['object']).drop('SalePrice', axis=1)\n",
    "numCols = X_num.columns\n",
    "X_num_test = t_test.select_dtypes(exclude=['object'])\n",
    "\n",
    "def imputeNumericalData(X_num):\n",
    "    imputer = SimpleImputer(missing_values=np.nan, strategy='median')\n",
    "    X_num_imputed = imputer.fit_transform(X_num)\n",
    "    X_num_imputed = pd.DataFrame(X_num_imputed, columns=numCols)\n",
    "    return X_num_imputed\n",
    "\n",
    "X_num_imputed = imputeNumericalData(X_num)\n",
    "X_num_imputed_test = imputeNumericalData(X_num_test)\n",
    "X_num_imputed.describe()"
   ]
  },
  {
   "cell_type": "markdown",
   "id": "nonprofit-inflation",
   "metadata": {},
   "source": [
    "Merge the numerical imputed and categorical imputed data to make one big data boi"
   ]
  },
  {
   "cell_type": "code",
   "execution_count": 19,
   "id": "differential-recipient",
   "metadata": {},
   "outputs": [],
   "source": [
    "X = pd.concat([X_num_imputed, X_label_imputed], axis=1).drop('Id', axis=1)\n",
    "X_test = pd.concat([X_num_imputed_test, X_label_imputed_test], axis=1).drop('Id', axis=1)"
   ]
  },
  {
   "cell_type": "code",
   "execution_count": 20,
   "id": "valid-nirvana",
   "metadata": {},
   "outputs": [],
   "source": [
    "y = t['SalePrice']"
   ]
  },
  {
   "cell_type": "markdown",
   "id": "freelance-thousand",
   "metadata": {},
   "source": [
    "## Machine Learning"
   ]
  },
  {
   "cell_type": "code",
   "execution_count": 22,
   "id": "noticed-screening",
   "metadata": {},
   "outputs": [],
   "source": [
    "from sklearn.model_selection import train_test_split\n",
    "X_train, X_valid, y_train, y_valid = train_test_split(X, y, test_size=.3)"
   ]
  },
  {
   "cell_type": "code",
   "execution_count": 23,
   "id": "theoretical-essex",
   "metadata": {},
   "outputs": [],
   "source": [
    "X_train_num, X_valid_num, y_train_num, y_valid_num = train_test_split(X_num_imputed, y)"
   ]
  },
  {
   "cell_type": "code",
   "execution_count": 24,
   "id": "checked-malpractice",
   "metadata": {},
   "outputs": [],
   "source": [
    "from sklearn.feature_selection import mutual_info_regression\n",
    "def make_mi_scores(X, y, discrete_features):\n",
    "    mi_scores = mutual_info_regression(X, y, discrete_features=discrete_features)\n",
    "    mi_scores = pd.Series(mi_scores, name=\"MI Scores\", index=X.columns)\n",
    "    mi_scores = mi_scores.sort_values(ascending=False)\n",
    "    return mi_scores"
   ]
  },
  {
   "cell_type": "code",
   "execution_count": 25,
   "id": "universal-economy",
   "metadata": {},
   "outputs": [],
   "source": [
    "discrete_features = X.dtypes == int"
   ]
  },
  {
   "cell_type": "code",
   "execution_count": 26,
   "id": "subtle-spirituality",
   "metadata": {},
   "outputs": [],
   "source": [
    "mi_scores = make_mi_scores(X,y, discrete_features=discrete_features )"
   ]
  },
  {
   "cell_type": "code",
   "execution_count": 27,
   "id": "greater-florida",
   "metadata": {},
   "outputs": [
    {
     "data": {
      "image/png": "[encoded data removed]",
      "text/plain": [
       "<Figure size 921.6x633.6 with 1 Axes>"
      ]
     },
     "metadata": {
      "needs_background": "light"
     },
     "output_type": "display_data"
    }
   ],
   "source": [
    "def plot_mi_scores(scores):\n",
    "    scores = scores.sort_values(ascending=True)\n",
    "    width = np.arange(len(scores))\n",
    "    ticks = list(scores.index)\n",
    "    plt.barh(width, scores)\n",
    "    plt.yticks(width, ticks)\n",
    "    plt.title(\"Mutual Information Scores\")\n",
    "\n",
    "plt.figure()\n",
    "plot_mi_scores(mi_scores[:21])"
   ]
  },
  {
   "cell_type": "markdown",
   "id": "modern-municipality",
   "metadata": {},
   "source": [
    "Calculate the pearson correlation coefficent \n",
    "\n",
    "r = $\\frac{\\sum (x - \\bar{x}) (y - \\bar{y})}{ \\sqrt{\\sum (x - \\bar{x})^2} \\sqrt{\\sum (y - \\bar{y})^2} }$\n",
    "\n",
    "amoung all the numerical features. We will deal with the categorical data in a bit, this will help us examine which features correlate strongly with the target variable so we can select them"
   ]
  },
  {
   "cell_type": "code",
   "execution_count": 28,
   "id": "oriented-technical",
   "metadata": {},
   "outputs": [
    {
     "data": {
      "text/plain": [
       "<AxesSubplot:>"
      ]
     },
     "execution_count": 28,
     "metadata": {},
     "output_type": "execute_result"
    },
    {
     "data": {
      "image/png": "[encoded data removed]",
      "text/plain": [
       "<Figure size 921.6x633.6 with 2 Axes>"
      ]
     },
     "metadata": {
      "needs_background": "light"
     },
     "output_type": "display_data"
    }
   ],
   "source": [
    "corr = pd.concat([X_num_imputed,y], axis=1).corr()\n",
    "sns.heatmap(corr, annot=False, cmap='mako_r')"
   ]
  },
  {
   "cell_type": "code",
   "execution_count": 29,
   "id": "arranged-walter",
   "metadata": {},
   "outputs": [],
   "source": [
    "# this is like doing a sort on the salePrice column\n",
    "cols = corr.nlargest(21, 'SalePrice')['SalePrice'].index"
   ]
  },
  {
   "cell_type": "code",
   "execution_count": 30,
   "id": "available-nirvana",
   "metadata": {},
   "outputs": [
    {
     "data": {
      "text/plain": [
       "Index(['OverallQual', 'GrLivArea', 'GarageCars', 'GarageArea', 'TotalBsmtSF',\n",
       "       '1stFlrSF', 'FullBath', 'TotRmsAbvGrd', 'YearBuilt', 'YearRemodAdd',\n",
       "       'MasVnrArea', 'Fireplaces', 'GarageYrBlt', 'BsmtFinSF1', 'LotFrontage',\n",
       "       'WoodDeckSF', '2ndFlrSF', 'OpenPorchSF', 'HalfBath', 'LotArea'],\n",
       "      dtype='object')"
      ]
     },
     "execution_count": 30,
     "metadata": {},
     "output_type": "execute_result"
    }
   ],
   "source": [
    "cols[1:]"
   ]
  },
  {
   "cell_type": "code",
   "execution_count": 31,
   "id": "athletic-immune",
   "metadata": {},
   "outputs": [
    {
     "data": {
      "text/plain": [
       "Index(['OverallQual', 'Neighborhood', 'GrLivArea', 'TotalBsmtSF', 'YearBuilt',\n",
       "       'GarageCars', 'GarageArea', 'KitchenQual', 'ExterQual', 'BsmtQual',\n",
       "       '1stFlrSF', 'GarageYrBlt', 'MSSubClass', 'FullBath', 'YearRemodAdd',\n",
       "       'GarageFinish', 'TotRmsAbvGrd', 'LotFrontage', 'Foundation',\n",
       "       '2ndFlrSF'],\n",
       "      dtype='object')"
      ]
     },
     "execution_count": 31,
     "metadata": {},
     "output_type": "execute_result"
    }
   ],
   "source": [
    "mi_scores[:20].index"
   ]
  },
  {
   "cell_type": "markdown",
   "id": "spanish-record",
   "metadata": {},
   "source": [
    "Let's try a random forest with all the features first, then a random forest with the top ten features acording to their mutual information to see if there's a difference in performance."
   ]
  },
  {
   "cell_type": "code",
   "execution_count": 32,
   "id": "cubic-chicken",
   "metadata": {},
   "outputs": [],
   "source": [
    "from sklearn.model_selection import GridSearchCV\n",
    "from sklearn.ensemble import RandomForestRegressor\n",
    "\n",
    "# perform a gridsearch varying the number of trees and max depth\n",
    "rfRS = GridSearchCV(\n",
    "        RandomForestRegressor(),\n",
    "        {\"n_estimators\":[500,1000,1500,2000],\n",
    "        \"max_depth\":[1,2,3,4,5],\n",
    "        },\n",
    "        cv=3)\n",
    "# grab the bestfit parameters\n",
    "rfRS_result = rfRS.fit(X_train, y_train)\n",
    "rfRS_best_params = rfRS_result.best_params_"
   ]
  },
  {
   "cell_type": "code",
   "execution_count": 33,
   "id": "large-least",
   "metadata": {},
   "outputs": [
    {
     "data": {
      "text/plain": [
       "RandomForestRegressor(max_depth=5, n_estimators=1500)"
      ]
     },
     "execution_count": 33,
     "metadata": {},
     "output_type": "execute_result"
    }
   ],
   "source": [
    "## make a new random forest using the best fit parameters\n",
    "best_rf = RandomForestRegressor(**rfRS_best_params)\n",
    "best_rf.fit(X_train,y_train)"
   ]
  },
  {
   "cell_type": "code",
   "execution_count": 34,
   "id": "attractive-visit",
   "metadata": {},
   "outputs": [
    {
     "data": {
      "text/plain": [
       "20086.2146080906"
      ]
     },
     "execution_count": 34,
     "metadata": {},
     "output_type": "execute_result"
    }
   ],
   "source": [
    "# make some predictions and calculate the MAE\n",
    "ypred = best_rf.predict(X_valid)\n",
    "np.sqrt(np.square(y_valid - ypred)).mean()"
   ]
  },
  {
   "cell_type": "code",
   "execution_count": 59,
   "id": "genuine-pantyhose",
   "metadata": {},
   "outputs": [
    {
     "data": {
      "text/plain": [
       "20378.614557590317"
      ]
     },
     "execution_count": 59,
     "metadata": {},
     "output_type": "execute_result"
    }
   ],
   "source": [
    "# repeat the above process, but now using the top 10 features from our mutual information scores\n",
    "rfRS = GridSearchCV(\n",
    "        RandomForestRegressor(),\n",
    "        {\"n_estimators\":[500,1000,1500,2000],\n",
    "        \"max_depth\":[1,2,3,4,5],\n",
    "        },\n",
    "        cv=3)\n",
    "\n",
    "rfRS_result = rfRS.fit(X_train.loc[:,['OverallQual', 'Neighborhood', 'GrLivArea', 'TotalBsmtSF', 'YearBuilt',\n",
    "       'GarageArea', 'GarageCars', 'ExterQual', 'KitchenQual', 'BsmtQual']], y_train)\n",
    "rfRS_best_params = rfRS_result.best_params_\n",
    "best_rf = RandomForestRegressor(**rfRS_best_params)\n",
    "best_rf.fit(X_train.loc[:,['OverallQual', 'Neighborhood', 'GrLivArea', 'TotalBsmtSF', 'YearBuilt',\n",
    "       'GarageArea', 'GarageCars', 'ExterQual', 'KitchenQual', 'BsmtQual']],y_train)\n",
    "ypred = best_rf.predict(X_valid.loc[:,['OverallQual', 'Neighborhood', 'GrLivArea', 'TotalBsmtSF', 'YearBuilt',\n",
    "       'GarageArea', 'GarageCars', 'ExterQual', 'KitchenQual', 'BsmtQual']])\n",
    "np.sqrt(np.square(y_valid - ypred)).mean()"
   ]
  },
  {
   "cell_type": "markdown",
   "id": "weighted-equilibrium",
   "metadata": {},
   "source": [
    "Pretty much the same performance. Cool, we can just keep a model the top 10 features according to their mutual information. \n",
    "Let's submit this to Kaggle and get a score"
   ]
  },
  {
   "cell_type": "code",
   "execution_count": 74,
   "id": "legitimate-edgar",
   "metadata": {},
   "outputs": [],
   "source": [
    "y_hat = best_rf.predict(X_test.loc[:,['OverallQual', 'Neighborhood', 'GrLivArea', 'TotalBsmtSF', 'YearBuilt',\n",
    "       'GarageArea', 'GarageCars', 'ExterQual', 'KitchenQual', 'BsmtQual']])\n",
    "pd.DataFrame({\"Id\":t_test['Id'], \"SalePrice\":y_hat}).to_csv('HousingSubmissionRF.csv', index=False)"
   ]
  },
  {
   "cell_type": "markdown",
   "id": "anticipated-catering",
   "metadata": {},
   "source": [
    "I get a score of 0.17974 on Kaggle. \n",
    "\n",
    "Let's set aside these numbers for the time being and keep them as a base line, Let's see how we can do using algorithms that will only be able to handel the numerical data"
   ]
  },
  {
   "cell_type": "markdown",
   "id": "angry-agenda",
   "metadata": {},
   "source": [
    "Let's examine the top 20 features according to their pearson correlation coefficent."
   ]
  },
  {
   "cell_type": "code",
   "execution_count": 36,
   "id": "perfect-heart",
   "metadata": {},
   "outputs": [
    {
     "data": {
      "image/png": "[encoded data removed]",
      "text/plain": [
       "<Figure size 921.6x633.6 with 20 Axes>"
      ]
     },
     "metadata": {
      "needs_background": "light"
     },
     "output_type": "display_data"
    }
   ],
   "source": [
    "fig, ax = plt.subplots(ncols=4, nrows=5)\n",
    "\n",
    "for i, a in zip(cols[1:],ax.flatten()):\n",
    "    a.scatter(X[i], y,s=5, alpha=.3)\n",
    "    a.set_xlabel(i)\n",
    "    a.set_ylabel('SalePrice')\n",
    "plt.tight_layout()"
   ]
  },
  {
   "cell_type": "markdown",
   "id": "activated-gentleman",
   "metadata": {},
   "source": [
    "Try linear regression using the top 10 features accordng to their pearson correlation coefficent, then with all the features to see if there is a difference in the MAE"
   ]
  },
  {
   "cell_type": "code",
   "execution_count": 38,
   "id": "animated-genealogy",
   "metadata": {},
   "outputs": [
    {
     "data": {
      "text/plain": [
       "23697.017354637097"
      ]
     },
     "execution_count": 38,
     "metadata": {},
     "output_type": "execute_result"
    }
   ],
   "source": [
    "lin_reg = LinearRegression().fit(X_train_num, y_train_num)\n",
    "ypred = lin_reg.predict(X_valid_num)\n",
    "np.sqrt(np.square(y_valid_num - ypred)).mean()"
   ]
  },
  {
   "cell_type": "code",
   "execution_count": 50,
   "id": "solid-producer",
   "metadata": {},
   "outputs": [
    {
     "data": {
      "text/plain": [
       "22844.17062062577"
      ]
     },
     "execution_count": 50,
     "metadata": {},
     "output_type": "execute_result"
    }
   ],
   "source": [
    "from sklearn.linear_model import LinearRegression\n",
    "features = ['OverallQual','GrLivArea','GarageCars','GarageArea','TotalBsmtSF',\n",
    "           '1stFlrSF', 'FullBath', 'TotRmsAbvGrd', 'YearBuilt', 'YearRemodAdd']\n",
    "lin_reg = LinearRegression().fit(X_train.loc[:,features], y_train)\n",
    "ypred = lin_reg.predict(X_valid.loc[:,features])\n",
    "np.sqrt(np.square(y_valid - ypred)).mean()"
   ]
  },
  {
   "cell_type": "markdown",
   "id": "dramatic-medium",
   "metadata": {},
   "source": [
    "The performance is basically the same. Instead of playing a game where we see which number of features is the minimum one you need, lets just continue to use the top 10 features\n",
    "\n",
    "Now lets try some other regression techniques, namely Ridge, Lasso, and KNN. Calculate the MAE for each algorithm"
   ]
  },
  {
   "cell_type": "code",
   "execution_count": 41,
   "id": "metric-bedroom",
   "metadata": {},
   "outputs": [
    {
     "data": {
      "text/plain": [
       "25601.82494016487"
      ]
     },
     "execution_count": 41,
     "metadata": {},
     "output_type": "execute_result"
    }
   ],
   "source": [
    "from sklearn.linear_model import Ridge\n",
    "parameters = {'alpha':[.01,.1,1,2,3,4,5,6,7,8,9,10,20,50,70,100,200]}\n",
    "#parameters = {'alpha':[.01,.1]}\n",
    "reg = Ridge()\n",
    "clf = GridSearchCV(reg, parameters)\n",
    "res = clf.fit(X_train,y_train)\n",
    "alpha_best = res.best_params_\n",
    "ridge_reg = Ridge(**alpha_best).fit(X_train_num.loc[:,features],y_train_num)\n",
    "ypred = ridge_reg.predict(X_valid_num.loc[:,features])\n",
    "np.sqrt(np.square(y_valid_num - ypred)).mean()"
   ]
  },
  {
   "cell_type": "code",
   "execution_count": 43,
   "id": "collect-psychology",
   "metadata": {
    "scrolled": true
   },
   "outputs": [
    {
     "data": {
      "text/plain": [
       "25785.574690630543"
      ]
     },
     "execution_count": 43,
     "metadata": {},
     "output_type": "execute_result"
    }
   ],
   "source": [
    "from sklearn.linear_model import Lasso\n",
    "parameters = {'alpha':[.001,.01,.1,1,2,3,4,5,6,7,8,9,10,20,50,70,100,200]}\n",
    "#parameters = {'alpha':[.01,.1]}\n",
    "reg = Lasso()\n",
    "clf = GridSearchCV(reg, parameters)\n",
    "res = clf.fit(X_train_num,y_train_num)\n",
    "alpha_best = res.best_params_\n",
    "lasso_reg = Lasso(**alpha_best).fit(X_train_num.loc[:,features],y_train_num)\n",
    "ypred = lasso_reg.predict(X_valid_num.loc[:,features])\n",
    "np.sqrt(np.square(y_valid_num - ypred)).mean()"
   ]
  },
  {
   "cell_type": "code",
   "execution_count": 45,
   "id": "colonial-drill",
   "metadata": {},
   "outputs": [],
   "source": [
    "from sklearn.neighbors import KNeighborsRegressor"
   ]
  },
  {
   "cell_type": "code",
   "execution_count": 46,
   "id": "found-iceland",
   "metadata": {},
   "outputs": [
    {
     "data": {
      "text/plain": [
       "29923.661643835618"
      ]
     },
     "execution_count": 46,
     "metadata": {},
     "output_type": "execute_result"
    }
   ],
   "source": [
    "parameters = {\"n_neighbors\":[5,6,7,8,9,10,15,20]}\n",
    "reg = KNeighborsRegressor()\n",
    "clf = GridSearchCV(reg, parameters)\n",
    "res = clf.fit(X_train_num, y_train_num)\n",
    "knn = KNeighborsRegressor(**res.best_params_).fit(X_train_num.loc[:,features], y_train_num)\n",
    "ypred = knn.predict(X_valid_num.loc[:,features])\n",
    "np.sqrt(np.square(y_valid_num - ypred)).mean()"
   ]
  },
  {
   "cell_type": "markdown",
   "id": "smoking-creature",
   "metadata": {},
   "source": [
    "Linear regression, Ridge, and Lasso regression all do about the same, slightly worse than the random forest, and K nearest neighboors performs the poorest. All of them are poorer than the random forest we fit. \n",
    "\n",
    "Now let's see if we can stack a few of our regression techniques together to make a blended model. In a blended model, the predictions of several ML algorithms are used to form a new set of training data. This gets fed to a meta model, which makes a final round of predictions. We will use a random forest regressor as the meta model"
   ]
  },
  {
   "cell_type": "code",
   "execution_count": 51,
   "id": "undefined-series",
   "metadata": {},
   "outputs": [],
   "source": [
    "meta_X=[]\n",
    "for algo in [lin_reg, ridge_reg, lasso_reg]:\n",
    "    yhat = algo.predict(X_valid_num.loc[:,features])\n",
    "    yhat = yhat.reshape(len(yhat), 1)\n",
    "    # store prediction\n",
    "    meta_X.append(yhat)"
   ]
  },
  {
   "cell_type": "code",
   "execution_count": 52,
   "id": "increasing-abuse",
   "metadata": {},
   "outputs": [],
   "source": [
    "meta_X = np.hstack(meta_X)"
   ]
  },
  {
   "cell_type": "code",
   "execution_count": 53,
   "id": "affected-canon",
   "metadata": {},
   "outputs": [
    {
     "data": {
      "text/plain": [
       "(365, 3)"
      ]
     },
     "execution_count": 53,
     "metadata": {},
     "output_type": "execute_result"
    }
   ],
   "source": [
    "meta_X.shape"
   ]
  },
  {
   "cell_type": "code",
   "execution_count": 55,
   "id": "expired-airfare",
   "metadata": {},
   "outputs": [
    {
     "data": {
      "text/plain": [
       "RandomForestRegressor(max_depth=5, n_estimators=1500)"
      ]
     },
     "execution_count": 55,
     "metadata": {},
     "output_type": "execute_result"
    }
   ],
   "source": [
    "rf = RandomForestRegressor(n_estimators=1500, max_depth=5)\n",
    "rf.fit(meta_X, y_valid_num)"
   ]
  },
  {
   "cell_type": "code",
   "execution_count": 69,
   "id": "expanded-ranch",
   "metadata": {},
   "outputs": [],
   "source": [
    "meta_X_test=[]\n",
    "for algo in [lin_reg, ridge_reg, lasso_reg]:\n",
    "    yhat = algo.predict(X_test.loc[:,features])\n",
    "    yhat = yhat.reshape(len(yhat), 1)\n",
    "    # store prediction\n",
    "    meta_X_test.append(yhat)\n",
    "meta_X_test = np.hstack(meta_X_test)"
   ]
  },
  {
   "cell_type": "code",
   "execution_count": 75,
   "id": "geological-sheet",
   "metadata": {},
   "outputs": [],
   "source": [
    "yhat = rf.predict(meta_X_test)\n",
    "pd.DataFrame({\"Id\":t_test['Id'], \"SalePrice\":yhat}).to_csv('HousingSubmissionBlend.csv', index=False)"
   ]
  },
  {
   "cell_type": "markdown",
   "id": "temporal-montreal",
   "metadata": {},
   "source": [
    "I got a score of 0.16373 on Kaggle with the blended model, an improvement of our regular Random Forest. Cool!"
   ]
  },
  {
   "cell_type": "code",
   "execution_count": null,
   "id": "latin-three",
   "metadata": {},
   "outputs": [],
   "source": []
  }
 ],
 "metadata": {
  "kernelspec": {
   "display_name": "Python 3",
   "language": "python",
   "name": "python3"
  },
  "language_info": {
   "codemirror_mode": {
    "name": "ipython",
    "version": 3
   },
   "file_extension": ".py",
   "mimetype": "text/x-python",
   "name": "python",
   "nbconvert_exporter": "python",
   "pygments_lexer": "ipython3",
   "version": "3.8.6"
  }
 },
 "nbformat": 4,
 "nbformat_minor": 5
}
